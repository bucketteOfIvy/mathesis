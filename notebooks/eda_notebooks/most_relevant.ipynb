{
 "cells": [
  {
   "cell_type": "markdown",
   "metadata": {},
   "source": [
    "# Notebook for identifying the most relevant features in my dataset"
   ]
  },
  {
   "cell_type": "code",
   "execution_count": 104,
   "metadata": {},
   "outputs": [],
   "source": [
    "from sklearn.linear_model import LogisticRegression\n",
    "from sklearn.preprocessing import MinMaxScaler, StandardScaler, PowerTransformer\n",
    "from scipy.stats import anderson\n",
    "import pandas as pd\n",
    "import geopandas as gpd\n",
    "import numpy as np"
   ]
  },
  {
   "cell_type": "code",
   "execution_count": 105,
   "metadata": {},
   "outputs": [],
   "source": [
    "data = gpd.read_file('../data/shapes/censCrashes.shp')\n",
    "data.columns.tolist()\n",
    "irrelevant = ['YEAR', 'STATE', 'COUNTY', 'geometry', 'STATEA', 'COUNTYA', 'TRACTA', 'AREANAM', ]\n",
    "target='grade'\n",
    "\n",
    "data.set_index(\"GISJOIN\", inplace=True)"
   ]
  },
  {
   "cell_type": "code",
   "execution_count": 106,
   "metadata": {},
   "outputs": [
    {
     "data": {
      "text/html": [
       "<div>\n",
       "<style scoped>\n",
       "    .dataframe tbody tr th:only-of-type {\n",
       "        vertical-align: middle;\n",
       "    }\n",
       "\n",
       "    .dataframe tbody tr th {\n",
       "        vertical-align: top;\n",
       "    }\n",
       "\n",
       "    .dataframe thead th {\n",
       "        text-align: right;\n",
       "    }\n",
       "</style>\n",
       "<table border=\"1\" class=\"dataframe\">\n",
       "  <thead>\n",
       "    <tr style=\"text-align: right;\">\n",
       "      <th></th>\n",
       "      <th>popTotl</th>\n",
       "      <th>popWhit</th>\n",
       "      <th>ppNnwht</th>\n",
       "      <th>ngrPpTt</th>\n",
       "      <th>occDwUT</th>\n",
       "      <th>mlNSchl</th>\n",
       "      <th>mlElm14</th>\n",
       "      <th>mlElm56</th>\n",
       "      <th>mlElm78</th>\n",
       "      <th>mlHS1t3</th>\n",
       "      <th>...</th>\n",
       "      <th>rfrgMch</th>\n",
       "      <th>refrgIc</th>\n",
       "      <th>rfrgOth</th>\n",
       "      <th>refrgNn</th>\n",
       "      <th>rfrgNRp</th>\n",
       "      <th>htCntrl</th>\n",
       "      <th>htNCntr</th>\n",
       "      <th>htNRprt</th>\n",
       "      <th>grade</th>\n",
       "      <th>n_crashes</th>\n",
       "    </tr>\n",
       "    <tr>\n",
       "      <th>GISJOIN</th>\n",
       "      <th></th>\n",
       "      <th></th>\n",
       "      <th></th>\n",
       "      <th></th>\n",
       "      <th></th>\n",
       "      <th></th>\n",
       "      <th></th>\n",
       "      <th></th>\n",
       "      <th></th>\n",
       "      <th></th>\n",
       "      <th></th>\n",
       "      <th></th>\n",
       "      <th></th>\n",
       "      <th></th>\n",
       "      <th></th>\n",
       "      <th></th>\n",
       "      <th></th>\n",
       "      <th></th>\n",
       "      <th></th>\n",
       "      <th></th>\n",
       "      <th></th>\n",
       "    </tr>\n",
       "  </thead>\n",
       "  <tbody>\n",
       "    <tr>\n",
       "      <th>G06003700001</th>\n",
       "      <td>4304.0</td>\n",
       "      <td>4069.0</td>\n",
       "      <td>235.0</td>\n",
       "      <td>70.0</td>\n",
       "      <td>874.0</td>\n",
       "      <td>62.0</td>\n",
       "      <td>114.0</td>\n",
       "      <td>124.0</td>\n",
       "      <td>380.0</td>\n",
       "      <td>271.0</td>\n",
       "      <td>...</td>\n",
       "      <td>571.0</td>\n",
       "      <td>165.0</td>\n",
       "      <td>2.0</td>\n",
       "      <td>132.0</td>\n",
       "      <td>4.0</td>\n",
       "      <td>82.0</td>\n",
       "      <td>784.0</td>\n",
       "      <td>2.0</td>\n",
       "      <td>C</td>\n",
       "      <td>3053.0</td>\n",
       "    </tr>\n",
       "    <tr>\n",
       "      <th>G06003700004</th>\n",
       "      <td>7248.0</td>\n",
       "      <td>6919.0</td>\n",
       "      <td>329.0</td>\n",
       "      <td>34.0</td>\n",
       "      <td>1927.0</td>\n",
       "      <td>73.0</td>\n",
       "      <td>314.0</td>\n",
       "      <td>204.0</td>\n",
       "      <td>564.0</td>\n",
       "      <td>360.0</td>\n",
       "      <td>...</td>\n",
       "      <td>842.0</td>\n",
       "      <td>654.0</td>\n",
       "      <td>27.0</td>\n",
       "      <td>389.0</td>\n",
       "      <td>15.0</td>\n",
       "      <td>62.0</td>\n",
       "      <td>1844.0</td>\n",
       "      <td>5.0</td>\n",
       "      <td>C</td>\n",
       "      <td>4293.0</td>\n",
       "    </tr>\n",
       "    <tr>\n",
       "      <th>G06003700006</th>\n",
       "      <td>864.0</td>\n",
       "      <td>789.0</td>\n",
       "      <td>75.0</td>\n",
       "      <td>2.0</td>\n",
       "      <td>265.0</td>\n",
       "      <td>4.0</td>\n",
       "      <td>20.0</td>\n",
       "      <td>7.0</td>\n",
       "      <td>73.0</td>\n",
       "      <td>53.0</td>\n",
       "      <td>...</td>\n",
       "      <td>195.0</td>\n",
       "      <td>36.0</td>\n",
       "      <td>6.0</td>\n",
       "      <td>25.0</td>\n",
       "      <td>3.0</td>\n",
       "      <td>22.0</td>\n",
       "      <td>239.0</td>\n",
       "      <td>1.0</td>\n",
       "      <td>C</td>\n",
       "      <td>250.0</td>\n",
       "    </tr>\n",
       "    <tr>\n",
       "      <th>G06003700007</th>\n",
       "      <td>2925.0</td>\n",
       "      <td>2886.0</td>\n",
       "      <td>39.0</td>\n",
       "      <td>0.0</td>\n",
       "      <td>893.0</td>\n",
       "      <td>17.0</td>\n",
       "      <td>38.0</td>\n",
       "      <td>58.0</td>\n",
       "      <td>294.0</td>\n",
       "      <td>157.0</td>\n",
       "      <td>...</td>\n",
       "      <td>503.0</td>\n",
       "      <td>291.0</td>\n",
       "      <td>7.0</td>\n",
       "      <td>85.0</td>\n",
       "      <td>7.0</td>\n",
       "      <td>18.0</td>\n",
       "      <td>867.0</td>\n",
       "      <td>2.0</td>\n",
       "      <td>C</td>\n",
       "      <td>502.0</td>\n",
       "    </tr>\n",
       "    <tr>\n",
       "      <th>G06003700012</th>\n",
       "      <td>607.0</td>\n",
       "      <td>600.0</td>\n",
       "      <td>7.0</td>\n",
       "      <td>1.0</td>\n",
       "      <td>208.0</td>\n",
       "      <td>1.0</td>\n",
       "      <td>15.0</td>\n",
       "      <td>14.0</td>\n",
       "      <td>53.0</td>\n",
       "      <td>43.0</td>\n",
       "      <td>...</td>\n",
       "      <td>111.0</td>\n",
       "      <td>68.0</td>\n",
       "      <td>1.0</td>\n",
       "      <td>27.0</td>\n",
       "      <td>1.0</td>\n",
       "      <td>1.0</td>\n",
       "      <td>207.0</td>\n",
       "      <td>0.0</td>\n",
       "      <td>C</td>\n",
       "      <td>96.0</td>\n",
       "    </tr>\n",
       "  </tbody>\n",
       "</table>\n",
       "<p>5 rows × 106 columns</p>\n",
       "</div>"
      ],
      "text/plain": [
       "              popTotl  popWhit  ppNnwht  ngrPpTt  occDwUT  mlNSchl  mlElm14  \\\n",
       "GISJOIN                                                                       \n",
       "G06003700001   4304.0   4069.0    235.0     70.0    874.0     62.0    114.0   \n",
       "G06003700004   7248.0   6919.0    329.0     34.0   1927.0     73.0    314.0   \n",
       "G06003700006    864.0    789.0     75.0      2.0    265.0      4.0     20.0   \n",
       "G06003700007   2925.0   2886.0     39.0      0.0    893.0     17.0     38.0   \n",
       "G06003700012    607.0    600.0      7.0      1.0    208.0      1.0     15.0   \n",
       "\n",
       "              mlElm56  mlElm78  mlHS1t3  ...  rfrgMch  refrgIc  rfrgOth  \\\n",
       "GISJOIN                                  ...                              \n",
       "G06003700001    124.0    380.0    271.0  ...    571.0    165.0      2.0   \n",
       "G06003700004    204.0    564.0    360.0  ...    842.0    654.0     27.0   \n",
       "G06003700006      7.0     73.0     53.0  ...    195.0     36.0      6.0   \n",
       "G06003700007     58.0    294.0    157.0  ...    503.0    291.0      7.0   \n",
       "G06003700012     14.0     53.0     43.0  ...    111.0     68.0      1.0   \n",
       "\n",
       "              refrgNn  rfrgNRp  htCntrl  htNCntr  htNRprt  grade  n_crashes  \n",
       "GISJOIN                                                                      \n",
       "G06003700001    132.0      4.0     82.0    784.0      2.0      C     3053.0  \n",
       "G06003700004    389.0     15.0     62.0   1844.0      5.0      C     4293.0  \n",
       "G06003700006     25.0      3.0     22.0    239.0      1.0      C      250.0  \n",
       "G06003700007     85.0      7.0     18.0    867.0      2.0      C      502.0  \n",
       "G06003700012     27.0      1.0      1.0    207.0      0.0      C       96.0  \n",
       "\n",
       "[5 rows x 106 columns]"
      ]
     },
     "execution_count": 106,
     "metadata": {},
     "output_type": "execute_result"
    }
   ],
   "source": [
    "pred_data = data.copy().drop(columns=irrelevant)\n",
    "\n",
    "pred_data.head()"
   ]
  },
  {
   "cell_type": "code",
   "execution_count": 107,
   "metadata": {},
   "outputs": [
    {
     "name": "stdout",
     "output_type": "stream",
     "text": [
      "Around 99.04761904761905 of data is non-exponential; 104 features\n",
      "Around 99.04761904761905 of data is non-exponential; 104 features\n"
     ]
    }
   ],
   "source": [
    "expo, norm = 0, 0\n",
    "for column in pred_data.drop(columns=['grade', 'n_crashes']).columns:\n",
    "    result = anderson(pred_data[column], dist='expon')\n",
    "    if result.statistic > result.critical_values[2]:\n",
    "        # print(f'Feature {column} had {result.statistic} > {result.critical_values[2]} anderson')\n",
    "        expo += 1\n",
    "    result = anderson(pred_data[column], dist='expon')\n",
    "    if result.statistic > result.critical_values[2]:\n",
    "        norm += 1\n",
    "\n",
    "print(f'Around {expo / (len(pred_data.columns)-1) * 100} of data is non-exponential; {expo} features')\n",
    "print(f'Around {norm / (len(pred_data.columns)-1) * 100} of data is non-exponential; {norm} features')"
   ]
  },
  {
   "cell_type": "markdown",
   "metadata": {},
   "source": [
    "Oh wonderful. Everything is non-normal _and_ non-exponential. Let's just use min-max scaler for the preprocessing, then."
   ]
  },
  {
   "cell_type": "code",
   "execution_count": 108,
   "metadata": {},
   "outputs": [
    {
     "data": {
      "text/plain": [
       "array([[0.15712617, 0.1491077 , 0.01490266, ..., 0.01155743, 0.18148148,\n",
       "        0.02173913],\n",
       "       [0.2646028 , 0.25354538, 0.02086372, ..., 0.00873855, 0.42685185,\n",
       "        0.05434783],\n",
       "       [0.03154206, 0.02891275, 0.00475617, ..., 0.00310078, 0.05532407,\n",
       "        0.01086957],\n",
       "       ...,\n",
       "       [0.10517669, 0.10557367, 0.        , ..., 0.07667371, 0.0150463 ,\n",
       "        0.        ],\n",
       "       [0.18100175, 0.18139177, 0.00050732, ..., 0.16659619, 0.01203704,\n",
       "        0.        ],\n",
       "       [0.0239486 , 0.02403899, 0.        , ..., 0.01508104, 0.00787037,\n",
       "        0.        ]])"
      ]
     },
     "execution_count": 108,
     "metadata": {},
     "output_type": "execute_result"
    }
   ],
   "source": [
    "X = pred_data.copy().drop(columns=['grade', 'n_crashes'])\n",
    "X_scaled = MinMaxScaler().fit_transform(X)\n",
    "\n",
    "X_scaled"
   ]
  },
  {
   "cell_type": "code",
   "execution_count": 109,
   "metadata": {},
   "outputs": [],
   "source": [
    "y = pred_data.grade.apply(lambda x: 'AB' if x in ['A', 'B'] else 'CD')"
   ]
  },
  {
   "cell_type": "code",
   "execution_count": 110,
   "metadata": {},
   "outputs": [
    {
     "data": {
      "text/plain": [
       "0.875438596491228"
      ]
     },
     "execution_count": 110,
     "metadata": {},
     "output_type": "execute_result"
    }
   ],
   "source": [
    "logreg = LogisticRegression('l1', solver='saga', max_iter=10000)\n",
    "logreg.fit(X, y).score(X, y)"
   ]
  },
  {
   "cell_type": "code",
   "execution_count": 111,
   "metadata": {},
   "outputs": [
    {
     "data": {
      "text/plain": [
       "array(['popTotl', 'popWhit', 'ppNnwht', 'ngrPpTt', 'occDwUT', 'mlNSchl',\n",
       "       'mlElm14', 'mlElm56', 'mlElm78', 'mlHS1t3', 'maleHS4', 'mlCll13',\n",
       "       'mlCllg4', 'mlNSchR', 'fmlNSch', 'fmlEl14', 'fmlEl56', 'fmlEl78',\n",
       "       'fmlHS13', 'femlHS4', 'fmlCl13', 'fmlCll4', 'fmlNScR', 'mlMdnYr',\n",
       "       'fmlMdnY', 'mlInLbr', 'mlNtInL', 'fmlInLb', 'fmlNtIL', 'mlEmply',\n",
       "       'mlPbEmW', 'mlSkWrk', 'mlNtILH', 'mlNtILS', 'mlNtILU', 'mlNtILI',\n",
       "       'mlNtILO', 'fmlEmpl', 'fmlPbEW', 'fmlSkWr', 'fmlNILH', 'fmlNILS',\n",
       "       'fmlNILU', 'fmlNILI', 'fmlNILO', 'malePrf', 'mlSmPrf', 'malePrp',\n",
       "       'mlClrcl', 'mlCrfts', 'mlOprtv', 'mlDmstc', 'malSrvc', 'maleLbr',\n",
       "       'mlNOccR', 'femlPrf', 'fmlSmPr', 'femlPrp', 'fmlClrc', 'fmlCrft',\n",
       "       'fmlOprt', 'fmlDmst', 'fmlSrvc', 'femlLbr', 'fmlNOcR', 'fm1Dtch',\n",
       "       'fm1Attc', 'fm2SdBS', 'fm2Othr', 'fam3', 'fam4', 'fm1t4WB',\n",
       "       'fam5to9', 'fm10t19', 'fm20pls', 'othrStr', 'undrP51', 'pt51t75',\n",
       "       'pt76to1', 'pt1t1p5', 'pt1p5t2', 'pt2plus', 'nRprtRm', 'tnUnP51',\n",
       "       'tnP5175', 'tnPt761', 'tnPt115', 'tnPt152', 'tnPt2pl', 'tnNRprt',\n",
       "       'nMjrRpr', 'majrRpr', 'rprNRpr', 'radio', 'noRadio', 'rdNRprt',\n",
       "       'rfrgMch', 'refrgIc', 'rfrgOth', 'refrgNn', 'rfrgNRp', 'htCntrl',\n",
       "       'htNCntr', 'htNRprt'], dtype=object)"
      ]
     },
     "execution_count": 111,
     "metadata": {},
     "output_type": "execute_result"
    }
   ],
   "source": [
    "logreg.feature_names_in_"
   ]
  },
  {
   "cell_type": "code",
   "execution_count": 112,
   "metadata": {},
   "outputs": [
    {
     "data": {
      "text/plain": [
       "(1, 104)"
      ]
     },
     "execution_count": 112,
     "metadata": {},
     "output_type": "execute_result"
    }
   ],
   "source": [
    "logreg.coef_.shape"
   ]
  },
  {
   "cell_type": "code",
   "execution_count": 113,
   "metadata": {},
   "outputs": [
    {
     "data": {
      "text/plain": [
       "(    feature      coef\n",
       " 18  fmlHS13 -0.004170\n",
       " 47  malePrp -0.003501\n",
       " 67  fm2SdBS -0.003390\n",
       " 52  malSrvc -0.003371\n",
       " 61  fmlDmst -0.002861,\n",
       "     feature      coef\n",
       " 70     fam4  0.004902\n",
       " 60  fmlOprt  0.003409\n",
       " 97  refrgIc  0.002923\n",
       " 50  mlOprtv  0.002887\n",
       " 26  mlNtInL  0.002619)"
      ]
     },
     "execution_count": 113,
     "metadata": {},
     "output_type": "execute_result"
    }
   ],
   "source": [
    "coefs = pd.DataFrame(logreg.coef_.T, index=logreg.feature_names_in_, columns=['coef'])\\\n",
    "    .reset_index()\\\n",
    "    .rename(columns={'index': 'feature'})\n",
    "\n",
    "\n",
    "high, low = coefs.sort_values(by='coef').head(5), coefs.sort_values(by='coef', ascending=False).head(5)\n",
    "high, low"
   ]
  },
  {
   "cell_type": "code",
   "execution_count": 116,
   "metadata": {},
   "outputs": [
    {
     "data": {
      "text/plain": [
       "count    104.000000\n",
       "mean       0.000180\n",
       "std        0.001460\n",
       "min       -0.004170\n",
       "25%       -0.000595\n",
       "50%        0.000236\n",
       "75%        0.000991\n",
       "max        0.004902\n",
       "Name: coef, dtype: float64"
      ]
     },
     "execution_count": 116,
     "metadata": {},
     "output_type": "execute_result"
    }
   ],
   "source": [
    "coefs.coef.describe()"
   ]
  },
  {
   "cell_type": "markdown",
   "metadata": {},
   "source": [
    "Ooookay, this is a little hard to interpret. Let's try something more human: how much variance can a model with only these 20 features explain?"
   ]
  },
  {
   "cell_type": "code",
   "execution_count": null,
   "metadata": {},
   "outputs": [
    {
     "data": {
      "text/plain": [
       "0.8258771929824561"
      ]
     },
     "execution_count": 114,
     "metadata": {},
     "output_type": "execute_result"
    }
   ],
   "source": [
    "rel = high.feature.tolist() + low.feature.tolist()\n",
    "\n",
    "X = pred_data[rel]\n",
    "X_scaled = MinMaxScaler().fit_transform(X)\n",
    "\n",
    "logreg.fit(X_scaled, y)\n",
    "logreg.score(X_scaled, y)"
   ]
  },
  {
   "cell_type": "code",
   "execution_count": 118,
   "metadata": {},
   "outputs": [
    {
     "data": {
      "text/plain": [
       "(array([[-2.34722755, -6.40581338, -4.71938197,  2.42852676, -3.70271066,\n",
       "         12.21897839,  1.48022964, 15.84593785,  1.41913549,  0.        ]]),\n",
       " ['fmlHS13',\n",
       "  'malePrp',\n",
       "  'fm2SdBS',\n",
       "  'malSrvc',\n",
       "  'fmlDmst',\n",
       "  'fam4',\n",
       "  'fmlOprt',\n",
       "  'refrgIc',\n",
       "  'mlOprtv',\n",
       "  'mlNtInL'])"
      ]
     },
     "execution_count": 118,
     "metadata": {},
     "output_type": "execute_result"
    }
   ],
   "source": [
    "logreg.coef_, rel"
   ]
  },
  {
   "cell_type": "code",
   "execution_count": null,
   "metadata": {},
   "outputs": [],
   "source": []
  }
 ],
 "metadata": {
  "kernelspec": {
   "display_name": "Python 3",
   "language": "python",
   "name": "python3"
  },
  "language_info": {
   "codemirror_mode": {
    "name": "ipython",
    "version": 3
   },
   "file_extension": ".py",
   "mimetype": "text/x-python",
   "name": "python",
   "nbconvert_exporter": "python",
   "pygments_lexer": "ipython3",
   "version": "3.11.4"
  }
 },
 "nbformat": 4,
 "nbformat_minor": 2
}
